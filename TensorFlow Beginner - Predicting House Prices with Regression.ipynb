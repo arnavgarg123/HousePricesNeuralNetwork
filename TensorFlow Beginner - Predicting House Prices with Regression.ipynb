{
 "cells": [
  {
   "cell_type": "markdown",
   "metadata": {},
   "source": [
    "# Task 1: Introduction\n",
    "\n",
    "---\n",
    "\n",
    "For this project, we are going to work on evaluating price of houses given the following features:\n",
    "\n",
    "1. Year of sale of the house\n",
    "2. The age of the house at the time of sale\n",
    "3. Distance from city center\n",
    "4. Number of stores in the locality\n",
    "5. The latitude\n",
    "6. The longitude\n",
    "\n",
    "![Regression](images/regression.png)\n",
    "\n",
    "Note: This notebook uses `python 3` and these packages: `tensorflow`, `pandas`, `matplotlib`, `scikit-learn`."
   ]
  },
  {
   "cell_type": "markdown",
   "metadata": {},
   "source": [
    "## 1.1: Importing Libraries & Helper Functions\n",
    "\n",
    "First of all, we will need to import some libraries and helper functions. This includes TensorFlow and some utility functions that I've written to save time."
   ]
  },
  {
   "cell_type": "code",
   "execution_count": 1,
   "metadata": {},
   "outputs": [
    {
     "name": "stdout",
     "output_type": "stream",
     "text": [
      "Libraries imported.\n"
     ]
    }
   ],
   "source": [
    "import pandas as pd\n",
    "import matplotlib.pyplot as plt\n",
    "import tensorflow as tf\n",
    "\n",
    "from utils import *\n",
    "from sklearn.model_selection import train_test_split\n",
    "from tensorflow.keras.models import Sequential\n",
    "from tensorflow.keras.layers import Dense, Dropout\n",
    "from tensorflow.keras.callbacks import EarlyStopping, LambdaCallback\n",
    "\n",
    "%matplotlib inline\n",
    "tf.logging.set_verbosity(tf.logging.ERROR)\n",
    "\n",
    "print('Libraries imported.')"
   ]
  },
  {
   "cell_type": "markdown",
   "metadata": {},
   "source": [
    "# Task 2: Importing the Data"
   ]
  },
  {
   "cell_type": "markdown",
   "metadata": {},
   "source": [
    "## 2.1: Importing the Data\n",
    "\n",
    "The dataset is saved in a `data.csv` file. We will use `pandas` to take a look at some of the rows."
   ]
  },
  {
   "cell_type": "code",
   "execution_count": 10,
   "metadata": {},
   "outputs": [
    {
     "name": "stdout",
     "output_type": "stream",
     "text": [
      "Shape :  (5000, 8)\n"
     ]
    },
    {
     "data": {
      "text/html": [
       "<div>\n",
       "<style scoped>\n",
       "    .dataframe tbody tr th:only-of-type {\n",
       "        vertical-align: middle;\n",
       "    }\n",
       "\n",
       "    .dataframe tbody tr th {\n",
       "        vertical-align: top;\n",
       "    }\n",
       "\n",
       "    .dataframe thead th {\n",
       "        text-align: right;\n",
       "    }\n",
       "</style>\n",
       "<table border=\"1\" class=\"dataframe\">\n",
       "  <thead>\n",
       "    <tr style=\"text-align: right;\">\n",
       "      <th></th>\n",
       "      <th>serial</th>\n",
       "      <th>date</th>\n",
       "      <th>age</th>\n",
       "      <th>distance</th>\n",
       "      <th>stores</th>\n",
       "      <th>latitude</th>\n",
       "      <th>longitude</th>\n",
       "      <th>price</th>\n",
       "    </tr>\n",
       "  </thead>\n",
       "  <tbody>\n",
       "    <tr>\n",
       "      <th>0</th>\n",
       "      <td>0</td>\n",
       "      <td>2009</td>\n",
       "      <td>21</td>\n",
       "      <td>9</td>\n",
       "      <td>6</td>\n",
       "      <td>84</td>\n",
       "      <td>121</td>\n",
       "      <td>14264</td>\n",
       "    </tr>\n",
       "    <tr>\n",
       "      <th>1</th>\n",
       "      <td>1</td>\n",
       "      <td>2007</td>\n",
       "      <td>4</td>\n",
       "      <td>2</td>\n",
       "      <td>3</td>\n",
       "      <td>86</td>\n",
       "      <td>121</td>\n",
       "      <td>12032</td>\n",
       "    </tr>\n",
       "    <tr>\n",
       "      <th>2</th>\n",
       "      <td>2</td>\n",
       "      <td>2016</td>\n",
       "      <td>18</td>\n",
       "      <td>3</td>\n",
       "      <td>7</td>\n",
       "      <td>90</td>\n",
       "      <td>120</td>\n",
       "      <td>13560</td>\n",
       "    </tr>\n",
       "    <tr>\n",
       "      <th>3</th>\n",
       "      <td>3</td>\n",
       "      <td>2002</td>\n",
       "      <td>13</td>\n",
       "      <td>2</td>\n",
       "      <td>2</td>\n",
       "      <td>80</td>\n",
       "      <td>128</td>\n",
       "      <td>12029</td>\n",
       "    </tr>\n",
       "    <tr>\n",
       "      <th>4</th>\n",
       "      <td>4</td>\n",
       "      <td>2014</td>\n",
       "      <td>25</td>\n",
       "      <td>5</td>\n",
       "      <td>8</td>\n",
       "      <td>81</td>\n",
       "      <td>122</td>\n",
       "      <td>14157</td>\n",
       "    </tr>\n",
       "  </tbody>\n",
       "</table>\n",
       "</div>"
      ],
      "text/plain": [
       "   serial  date  age  distance  stores  latitude  longitude  price\n",
       "0       0  2009   21         9       6        84        121  14264\n",
       "1       1  2007    4         2       3        86        121  12032\n",
       "2       2  2016   18         3       7        90        120  13560\n",
       "3       3  2002   13         2       2        80        128  12029\n",
       "4       4  2014   25         5       8        81        122  14157"
      ]
     },
     "execution_count": 10,
     "metadata": {},
     "output_type": "execute_result"
    }
   ],
   "source": [
    "df=pd.read_csv('data.csv',names=column_names)\n",
    "print(\"Shape : \",df.shape)\n",
    "df.head()"
   ]
  },
  {
   "cell_type": "markdown",
   "metadata": {},
   "source": [
    "## 2.2: Check Missing Data\n",
    "\n",
    "It's a good practice to check if the data has any missing values. In real world data, this is quite common and must be taken care of before any data pre-processing or model training."
   ]
  },
  {
   "cell_type": "code",
   "execution_count": 7,
   "metadata": {},
   "outputs": [
    {
     "data": {
      "text/plain": [
       "serial       0\n",
       "date         0\n",
       "age          0\n",
       "distance     0\n",
       "stores       0\n",
       "latitude     0\n",
       "longitude    0\n",
       "price        0\n",
       "dtype: int64"
      ]
     },
     "execution_count": 7,
     "metadata": {},
     "output_type": "execute_result"
    }
   ],
   "source": [
    "df.isnull().sum()"
   ]
  },
  {
   "cell_type": "markdown",
   "metadata": {},
   "source": [
    "# Task 3: Data Normalization"
   ]
  },
  {
   "cell_type": "markdown",
   "metadata": {},
   "source": [
    "## 3.1: Data Normalization\n",
    "\n",
    "We can make it easier for optimization algorithms to find minimas by normalizing the data before training a model."
   ]
  },
  {
   "cell_type": "code",
   "execution_count": 11,
   "metadata": {},
   "outputs": [],
   "source": [
    "df.drop('serial',axis=1,inplace=True)"
   ]
  },
  {
   "cell_type": "code",
   "execution_count": 13,
   "metadata": {},
   "outputs": [
    {
     "data": {
      "text/html": [
       "<div>\n",
       "<style scoped>\n",
       "    .dataframe tbody tr th:only-of-type {\n",
       "        vertical-align: middle;\n",
       "    }\n",
       "\n",
       "    .dataframe tbody tr th {\n",
       "        vertical-align: top;\n",
       "    }\n",
       "\n",
       "    .dataframe thead th {\n",
       "        text-align: right;\n",
       "    }\n",
       "</style>\n",
       "<table border=\"1\" class=\"dataframe\">\n",
       "  <thead>\n",
       "    <tr style=\"text-align: right;\">\n",
       "      <th></th>\n",
       "      <th>date</th>\n",
       "      <th>age</th>\n",
       "      <th>distance</th>\n",
       "      <th>stores</th>\n",
       "      <th>latitude</th>\n",
       "      <th>longitude</th>\n",
       "      <th>price</th>\n",
       "    </tr>\n",
       "  </thead>\n",
       "  <tbody>\n",
       "    <tr>\n",
       "      <th>0</th>\n",
       "      <td>0.015978</td>\n",
       "      <td>0.181384</td>\n",
       "      <td>1.257002</td>\n",
       "      <td>0.345224</td>\n",
       "      <td>-0.307212</td>\n",
       "      <td>-1.260799</td>\n",
       "      <td>0.350088</td>\n",
       "    </tr>\n",
       "    <tr>\n",
       "      <th>1</th>\n",
       "      <td>-0.350485</td>\n",
       "      <td>-1.319118</td>\n",
       "      <td>-0.930610</td>\n",
       "      <td>-0.609312</td>\n",
       "      <td>0.325301</td>\n",
       "      <td>-1.260799</td>\n",
       "      <td>-1.836486</td>\n",
       "    </tr>\n",
       "    <tr>\n",
       "      <th>2</th>\n",
       "      <td>1.298598</td>\n",
       "      <td>-0.083410</td>\n",
       "      <td>-0.618094</td>\n",
       "      <td>0.663402</td>\n",
       "      <td>1.590328</td>\n",
       "      <td>-1.576456</td>\n",
       "      <td>-0.339584</td>\n",
       "    </tr>\n",
       "    <tr>\n",
       "      <th>3</th>\n",
       "      <td>-1.266643</td>\n",
       "      <td>-0.524735</td>\n",
       "      <td>-0.930610</td>\n",
       "      <td>-0.927491</td>\n",
       "      <td>-1.572238</td>\n",
       "      <td>0.948803</td>\n",
       "      <td>-1.839425</td>\n",
       "    </tr>\n",
       "    <tr>\n",
       "      <th>4</th>\n",
       "      <td>0.932135</td>\n",
       "      <td>0.534444</td>\n",
       "      <td>0.006938</td>\n",
       "      <td>0.981581</td>\n",
       "      <td>-1.255981</td>\n",
       "      <td>-0.945141</td>\n",
       "      <td>0.245266</td>\n",
       "    </tr>\n",
       "  </tbody>\n",
       "</table>\n",
       "</div>"
      ],
      "text/plain": [
       "       date       age  distance    stores  latitude  longitude     price\n",
       "0  0.015978  0.181384  1.257002  0.345224 -0.307212  -1.260799  0.350088\n",
       "1 -0.350485 -1.319118 -0.930610 -0.609312  0.325301  -1.260799 -1.836486\n",
       "2  1.298598 -0.083410 -0.618094  0.663402  1.590328  -1.576456 -0.339584\n",
       "3 -1.266643 -0.524735 -0.930610 -0.927491 -1.572238   0.948803 -1.839425\n",
       "4  0.932135  0.534444  0.006938  0.981581 -1.255981  -0.945141  0.245266"
      ]
     },
     "execution_count": 13,
     "metadata": {},
     "output_type": "execute_result"
    }
   ],
   "source": [
    "df_norm=(df-df.mean())/df.std()\n",
    "df_norm.head()"
   ]
  },
  {
   "cell_type": "markdown",
   "metadata": {},
   "source": [
    "## 3.2: Convert Label Value\n",
    "\n",
    "Because we are using normalized values for the labels, we will get the predictions back from a trained model in the same distribution. So, we need to convert the predicted values back to the original distribution if we want predicted prices."
   ]
  },
  {
   "cell_type": "code",
   "execution_count": 14,
   "metadata": {},
   "outputs": [],
   "source": [
    "y_mean=df['price'].mean()\n",
    "y_std=df['price'].std()\n",
    "def convert_label_value(pred):\n",
    "    return int(pred*y_std+y_mean)"
   ]
  },
  {
   "cell_type": "markdown",
   "metadata": {},
   "source": [
    "# Task 4: Create Training and Test Sets"
   ]
  },
  {
   "cell_type": "markdown",
   "metadata": {},
   "source": [
    "## 4.1: Select Features\n",
    "\n",
    "Make sure to remove the column __price__ from the list of features as it is the label and should not be used as a feature."
   ]
  },
  {
   "cell_type": "markdown",
   "metadata": {},
   "source": [
    "#### Normalized"
   ]
  },
  {
   "cell_type": "code",
   "execution_count": 47,
   "metadata": {},
   "outputs": [
    {
     "data": {
      "text/html": [
       "<div>\n",
       "<style scoped>\n",
       "    .dataframe tbody tr th:only-of-type {\n",
       "        vertical-align: middle;\n",
       "    }\n",
       "\n",
       "    .dataframe tbody tr th {\n",
       "        vertical-align: top;\n",
       "    }\n",
       "\n",
       "    .dataframe thead th {\n",
       "        text-align: right;\n",
       "    }\n",
       "</style>\n",
       "<table border=\"1\" class=\"dataframe\">\n",
       "  <thead>\n",
       "    <tr style=\"text-align: right;\">\n",
       "      <th></th>\n",
       "      <th>date</th>\n",
       "      <th>age</th>\n",
       "      <th>distance</th>\n",
       "      <th>stores</th>\n",
       "      <th>latitude</th>\n",
       "      <th>longitude</th>\n",
       "    </tr>\n",
       "  </thead>\n",
       "  <tbody>\n",
       "    <tr>\n",
       "      <th>0</th>\n",
       "      <td>0.015978</td>\n",
       "      <td>0.181384</td>\n",
       "      <td>1.257002</td>\n",
       "      <td>0.345224</td>\n",
       "      <td>-0.307212</td>\n",
       "      <td>-1.260799</td>\n",
       "    </tr>\n",
       "    <tr>\n",
       "      <th>1</th>\n",
       "      <td>-0.350485</td>\n",
       "      <td>-1.319118</td>\n",
       "      <td>-0.930610</td>\n",
       "      <td>-0.609312</td>\n",
       "      <td>0.325301</td>\n",
       "      <td>-1.260799</td>\n",
       "    </tr>\n",
       "    <tr>\n",
       "      <th>2</th>\n",
       "      <td>1.298598</td>\n",
       "      <td>-0.083410</td>\n",
       "      <td>-0.618094</td>\n",
       "      <td>0.663402</td>\n",
       "      <td>1.590328</td>\n",
       "      <td>-1.576456</td>\n",
       "    </tr>\n",
       "    <tr>\n",
       "      <th>3</th>\n",
       "      <td>-1.266643</td>\n",
       "      <td>-0.524735</td>\n",
       "      <td>-0.930610</td>\n",
       "      <td>-0.927491</td>\n",
       "      <td>-1.572238</td>\n",
       "      <td>0.948803</td>\n",
       "    </tr>\n",
       "    <tr>\n",
       "      <th>4</th>\n",
       "      <td>0.932135</td>\n",
       "      <td>0.534444</td>\n",
       "      <td>0.006938</td>\n",
       "      <td>0.981581</td>\n",
       "      <td>-1.255981</td>\n",
       "      <td>-0.945141</td>\n",
       "    </tr>\n",
       "  </tbody>\n",
       "</table>\n",
       "</div>"
      ],
      "text/plain": [
       "       date       age  distance    stores  latitude  longitude\n",
       "0  0.015978  0.181384  1.257002  0.345224 -0.307212  -1.260799\n",
       "1 -0.350485 -1.319118 -0.930610 -0.609312  0.325301  -1.260799\n",
       "2  1.298598 -0.083410 -0.618094  0.663402  1.590328  -1.576456\n",
       "3 -1.266643 -0.524735 -0.930610 -0.927491 -1.572238   0.948803\n",
       "4  0.932135  0.534444  0.006938  0.981581 -1.255981  -0.945141"
      ]
     },
     "execution_count": 47,
     "metadata": {},
     "output_type": "execute_result"
    }
   ],
   "source": [
    "xn=df_norm.drop('price',axis=1)\n",
    "xn.head()"
   ]
  },
  {
   "cell_type": "markdown",
   "metadata": {},
   "source": [
    "#### Not Normalized"
   ]
  },
  {
   "cell_type": "code",
   "execution_count": 48,
   "metadata": {},
   "outputs": [
    {
     "data": {
      "text/html": [
       "<div>\n",
       "<style scoped>\n",
       "    .dataframe tbody tr th:only-of-type {\n",
       "        vertical-align: middle;\n",
       "    }\n",
       "\n",
       "    .dataframe tbody tr th {\n",
       "        vertical-align: top;\n",
       "    }\n",
       "\n",
       "    .dataframe thead th {\n",
       "        text-align: right;\n",
       "    }\n",
       "</style>\n",
       "<table border=\"1\" class=\"dataframe\">\n",
       "  <thead>\n",
       "    <tr style=\"text-align: right;\">\n",
       "      <th></th>\n",
       "      <th>date</th>\n",
       "      <th>age</th>\n",
       "      <th>distance</th>\n",
       "      <th>stores</th>\n",
       "      <th>latitude</th>\n",
       "      <th>longitude</th>\n",
       "    </tr>\n",
       "  </thead>\n",
       "  <tbody>\n",
       "    <tr>\n",
       "      <th>0</th>\n",
       "      <td>2009</td>\n",
       "      <td>21</td>\n",
       "      <td>9</td>\n",
       "      <td>6</td>\n",
       "      <td>84</td>\n",
       "      <td>121</td>\n",
       "    </tr>\n",
       "    <tr>\n",
       "      <th>1</th>\n",
       "      <td>2007</td>\n",
       "      <td>4</td>\n",
       "      <td>2</td>\n",
       "      <td>3</td>\n",
       "      <td>86</td>\n",
       "      <td>121</td>\n",
       "    </tr>\n",
       "    <tr>\n",
       "      <th>2</th>\n",
       "      <td>2016</td>\n",
       "      <td>18</td>\n",
       "      <td>3</td>\n",
       "      <td>7</td>\n",
       "      <td>90</td>\n",
       "      <td>120</td>\n",
       "    </tr>\n",
       "    <tr>\n",
       "      <th>3</th>\n",
       "      <td>2002</td>\n",
       "      <td>13</td>\n",
       "      <td>2</td>\n",
       "      <td>2</td>\n",
       "      <td>80</td>\n",
       "      <td>128</td>\n",
       "    </tr>\n",
       "    <tr>\n",
       "      <th>4</th>\n",
       "      <td>2014</td>\n",
       "      <td>25</td>\n",
       "      <td>5</td>\n",
       "      <td>8</td>\n",
       "      <td>81</td>\n",
       "      <td>122</td>\n",
       "    </tr>\n",
       "  </tbody>\n",
       "</table>\n",
       "</div>"
      ],
      "text/plain": [
       "   date  age  distance  stores  latitude  longitude\n",
       "0  2009   21         9       6        84        121\n",
       "1  2007    4         2       3        86        121\n",
       "2  2016   18         3       7        90        120\n",
       "3  2002   13         2       2        80        128\n",
       "4  2014   25         5       8        81        122"
      ]
     },
     "execution_count": 48,
     "metadata": {},
     "output_type": "execute_result"
    }
   ],
   "source": [
    "x=df.drop('price',axis=1)\n",
    "x.head()"
   ]
  },
  {
   "cell_type": "markdown",
   "metadata": {},
   "source": [
    "## 4.2: Select Labels"
   ]
  },
  {
   "cell_type": "markdown",
   "metadata": {},
   "source": [
    "#### Normalized"
   ]
  },
  {
   "cell_type": "code",
   "execution_count": 49,
   "metadata": {},
   "outputs": [
    {
     "data": {
      "text/plain": [
       "0    0.350088\n",
       "1   -1.836486\n",
       "2   -0.339584\n",
       "3   -1.839425\n",
       "4    0.245266\n",
       "Name: price, dtype: float64"
      ]
     },
     "execution_count": 49,
     "metadata": {},
     "output_type": "execute_result"
    }
   ],
   "source": [
    "yn=df_norm['price']\n",
    "yn.head()"
   ]
  },
  {
   "cell_type": "markdown",
   "metadata": {},
   "source": [
    "#### Not Normalized"
   ]
  },
  {
   "cell_type": "code",
   "execution_count": 50,
   "metadata": {},
   "outputs": [
    {
     "data": {
      "text/plain": [
       "0    14264\n",
       "1    12032\n",
       "2    13560\n",
       "3    12029\n",
       "4    14157\n",
       "Name: price, dtype: int64"
      ]
     },
     "execution_count": 50,
     "metadata": {},
     "output_type": "execute_result"
    }
   ],
   "source": [
    "y=df['price']\n",
    "y.head()"
   ]
  },
  {
   "cell_type": "markdown",
   "metadata": {},
   "source": [
    "## 4.3: Feature and Label Values\n",
    "\n",
    "We will need to extract just the numeric values for the features and labels as the TensorFlow model will expect just numeric values as input."
   ]
  },
  {
   "cell_type": "markdown",
   "metadata": {},
   "source": [
    "#### Not Normalized"
   ]
  },
  {
   "cell_type": "code",
   "execution_count": 51,
   "metadata": {},
   "outputs": [
    {
     "name": "stdout",
     "output_type": "stream",
     "text": [
      "(5000, 6) | (5000,)\n"
     ]
    }
   ],
   "source": [
    "x=x.values\n",
    "y=y.values\n",
    "print(x.shape,\"|\",y.shape)"
   ]
  },
  {
   "cell_type": "markdown",
   "metadata": {},
   "source": [
    "#### Normalized"
   ]
  },
  {
   "cell_type": "code",
   "execution_count": 52,
   "metadata": {},
   "outputs": [
    {
     "name": "stdout",
     "output_type": "stream",
     "text": [
      "(5000, 6) | (5000,)\n"
     ]
    }
   ],
   "source": [
    "xn=xn.values\n",
    "yn=yn.values\n",
    "print(x.shape,\"|\",y.shape)"
   ]
  },
  {
   "cell_type": "markdown",
   "metadata": {},
   "source": [
    "## 4.4: Train and Test Split\n",
    "\n",
    "We will keep some part of the data aside as a __test__ set. The model will not use this set during training and it will be used only for checking the performance of the model in trained and un-trained states. This way, we can make sure that we are going in the right direction with our model training."
   ]
  },
  {
   "cell_type": "markdown",
   "metadata": {},
   "source": [
    "#### Normalized"
   ]
  },
  {
   "cell_type": "code",
   "execution_count": 54,
   "metadata": {},
   "outputs": [
    {
     "name": "stdout",
     "output_type": "stream",
     "text": [
      "(4750, 6) (4750,) | (250, 6) (250,)\n"
     ]
    }
   ],
   "source": [
    "xtrainn,xtestn,ytrainn,ytestn=train_test_split(xn,yn,test_size=0.05)\n",
    "print(xtrain.shape,ytrain.shape,'|',xtest.shape,ytest.shape)"
   ]
  },
  {
   "cell_type": "markdown",
   "metadata": {},
   "source": [
    "#### Not Normalized"
   ]
  },
  {
   "cell_type": "code",
   "execution_count": 53,
   "metadata": {},
   "outputs": [
    {
     "name": "stdout",
     "output_type": "stream",
     "text": [
      "(4750, 6) (4750,) | (250, 6) (250,)\n"
     ]
    }
   ],
   "source": [
    "xtrain,xtest,ytrain,ytest=train_test_split(x,y,test_size=0.05)\n",
    "print(xtrain.shape,ytrain.shape,'|',xtest.shape,ytest.shape)"
   ]
  },
  {
   "cell_type": "markdown",
   "metadata": {},
   "source": [
    "# Task 5: Create the Model"
   ]
  },
  {
   "cell_type": "markdown",
   "metadata": {},
   "source": [
    "## 5.1: Create the Model\n",
    "\n",
    "Let's write a function that returns an untrained model of a certain architecture."
   ]
  },
  {
   "cell_type": "code",
   "execution_count": 55,
   "metadata": {},
   "outputs": [
    {
     "name": "stdout",
     "output_type": "stream",
     "text": [
      "_________________________________________________________________\n",
      "Layer (type)                 Output Shape              Param #   \n",
      "=================================================================\n",
      "dense_36 (Dense)             (None, 10)                70        \n",
      "_________________________________________________________________\n",
      "dense_37 (Dense)             (None, 20)                220       \n",
      "_________________________________________________________________\n",
      "dense_38 (Dense)             (None, 5)                 105       \n",
      "_________________________________________________________________\n",
      "dense_39 (Dense)             (None, 1)                 6         \n",
      "=================================================================\n",
      "Total params: 401\n",
      "Trainable params: 401\n",
      "Non-trainable params: 0\n",
      "_________________________________________________________________\n"
     ]
    }
   ],
   "source": [
    "def get_model():\n",
    "    model=Sequential([\n",
    "        Dense(10,input_shape=(6,),activation='relu'),\n",
    "        Dense(20,activation='relu'),\n",
    "        Dense(5,activation='relu'),\n",
    "        Dense(1)\n",
    "    ])\n",
    "    model.compile(\n",
    "        loss='mse',\n",
    "        optimizer='adam'\n",
    "    )\n",
    "    return model\n",
    "get_model().summary()"
   ]
  },
  {
   "cell_type": "markdown",
   "metadata": {},
   "source": [
    "# Task 6: Model Training"
   ]
  },
  {
   "cell_type": "markdown",
   "metadata": {},
   "source": [
    "## 6.1: Model Training\n",
    "\n",
    "We can use an `EarlyStopping` callback from Keras to stop the model training if the validation loss stops decreasing for a few epochs."
   ]
  },
  {
   "cell_type": "markdown",
   "metadata": {},
   "source": [
    "#### Not Normalized"
   ]
  },
  {
   "cell_type": "code",
   "execution_count": 64,
   "metadata": {},
   "outputs": [
    {
     "name": "stdout",
     "output_type": "stream",
     "text": [
      "Train on 4750 samples, validate on 250 samples\n",
      "Epoch 1/1000\n",
      "4750/4750 [==============================] - 1s 220us/sample - loss: 141987402.3225 - val_loss: 71894502.2720\n",
      "Epoch 2/1000\n",
      "4750/4750 [==============================] - 0s 45us/sample - loss: 16552648.7090 - val_loss: 1084948.9360\n",
      "Epoch 3/1000\n",
      "4750/4750 [==============================] - 0s 70us/sample - loss: 959482.3036 - val_loss: 1078068.4020\n",
      "Epoch 4/1000\n",
      "4750/4750 [==============================] - 0s 51us/sample - loss: 956436.4295 - val_loss: 1072701.9800\n",
      "Epoch 5/1000\n",
      "4750/4750 [==============================] - 0s 48us/sample - loss: 950276.7180 - val_loss: 1067201.4510\n",
      "Epoch 6/1000\n",
      "4750/4750 [==============================] - 0s 52us/sample - loss: 944533.9589 - val_loss: 1064617.5560\n",
      "Epoch 7/1000\n",
      "4750/4750 [==============================] - 0s 46us/sample - loss: 938651.1427 - val_loss: 1053010.8370\n",
      "Epoch 8/1000\n",
      "4750/4750 [==============================] - 0s 48us/sample - loss: 931822.6583 - val_loss: 1047453.7170\n",
      "Epoch 9/1000\n",
      "4750/4750 [==============================] - 0s 47us/sample - loss: 923985.7265 - val_loss: 1037155.9675\n",
      "Epoch 10/1000\n",
      "4750/4750 [==============================] - 0s 53us/sample - loss: 917305.9100 - val_loss: 1030336.5590\n",
      "Epoch 11/1000\n",
      "4750/4750 [==============================] - 0s 49us/sample - loss: 907428.1114 - val_loss: 1031937.7105\n",
      "Epoch 12/1000\n",
      "4750/4750 [==============================] - 0s 46us/sample - loss: 900197.0142 - val_loss: 1011171.8140\n",
      "Epoch 13/1000\n",
      "4750/4750 [==============================] - 0s 46us/sample - loss: 888719.5256 - val_loss: 995951.9870\n",
      "Epoch 14/1000\n",
      "4750/4750 [==============================] - 0s 48us/sample - loss: 879587.8307 - val_loss: 984510.2575\n",
      "Epoch 15/1000\n",
      "4750/4750 [==============================] - 0s 50us/sample - loss: 867661.8477 - val_loss: 972995.5535\n",
      "Epoch 16/1000\n",
      "4750/4750 [==============================] - 0s 47us/sample - loss: 858595.8825 - val_loss: 963945.5825\n",
      "Epoch 17/1000\n",
      "4750/4750 [==============================] - 0s 48us/sample - loss: 846272.4199 - val_loss: 954768.0400\n",
      "Epoch 18/1000\n",
      "4750/4750 [==============================] - 0s 42us/sample - loss: 835774.1921 - val_loss: 950484.4235\n",
      "Epoch 19/1000\n",
      "4750/4750 [==============================] - 0s 45us/sample - loss: 825229.7425 - val_loss: 925066.4140\n",
      "Epoch 20/1000\n",
      "4750/4750 [==============================] - 0s 47us/sample - loss: 809293.6595 - val_loss: 911629.9705\n",
      "Epoch 21/1000\n",
      "4750/4750 [==============================] - 0s 45us/sample - loss: 799485.5508 - val_loss: 894532.1095\n",
      "Epoch 22/1000\n",
      "4750/4750 [==============================] - 0s 48us/sample - loss: 783354.6407 - val_loss: 881372.1843\n",
      "Epoch 23/1000\n",
      "4750/4750 [==============================] - 0s 45us/sample - loss: 769568.3798 - val_loss: 862339.5320\n",
      "Epoch 24/1000\n",
      "4750/4750 [==============================] - 0s 46us/sample - loss: 759775.7262 - val_loss: 847299.0965\n",
      "Epoch 25/1000\n",
      "4750/4750 [==============================] - 0s 46us/sample - loss: 745705.5151 - val_loss: 835896.5510\n",
      "Epoch 26/1000\n",
      "4750/4750 [==============================] - 0s 46us/sample - loss: 731466.3276 - val_loss: 819969.7230\n",
      "Epoch 27/1000\n",
      "4750/4750 [==============================] - 0s 45us/sample - loss: 714628.8702 - val_loss: 801298.5190\n",
      "Epoch 28/1000\n",
      "4750/4750 [==============================] - 0s 45us/sample - loss: 699462.7179 - val_loss: 793678.9970\n",
      "Epoch 29/1000\n",
      "4750/4750 [==============================] - 0s 48us/sample - loss: 691120.7318 - val_loss: 798704.1265\n",
      "Epoch 30/1000\n",
      "4750/4750 [==============================] - 0s 44us/sample - loss: 673070.2731 - val_loss: 752613.5250\n",
      "Epoch 31/1000\n",
      "4750/4750 [==============================] - 0s 48us/sample - loss: 662123.9153 - val_loss: 735739.9185\n",
      "Epoch 32/1000\n",
      "4750/4750 [==============================] - 0s 44us/sample - loss: 641955.8009 - val_loss: 721043.1480\n",
      "Epoch 33/1000\n",
      "4750/4750 [==============================] - 0s 45us/sample - loss: 630667.8242 - val_loss: 715028.9420\n",
      "Epoch 34/1000\n",
      "4750/4750 [==============================] - 0s 44us/sample - loss: 615991.7239 - val_loss: 688333.7535\n",
      "Epoch 35/1000\n",
      "4750/4750 [==============================] - 0s 49us/sample - loss: 601721.8823 - val_loss: 668693.5550\n",
      "Epoch 36/1000\n",
      "4750/4750 [==============================] - 0s 43us/sample - loss: 582515.9892 - val_loss: 654176.5243\n",
      "Epoch 37/1000\n",
      "4750/4750 [==============================] - 0s 47us/sample - loss: 569944.9063 - val_loss: 634028.5145\n",
      "Epoch 38/1000\n",
      "4750/4750 [==============================] - 0s 48us/sample - loss: 552639.3079 - val_loss: 619148.9255\n",
      "Epoch 39/1000\n",
      "4750/4750 [==============================] - 0s 46us/sample - loss: 541199.5118 - val_loss: 608413.4425\n",
      "Epoch 40/1000\n",
      "4750/4750 [==============================] - 0s 45us/sample - loss: 524153.7492 - val_loss: 582850.6255\n",
      "Epoch 41/1000\n",
      "4750/4750 [==============================] - 0s 50us/sample - loss: 512329.0936 - val_loss: 615197.5650\n",
      "Epoch 42/1000\n",
      "4750/4750 [==============================] - 0s 47us/sample - loss: 495220.3034 - val_loss: 550451.2015\n",
      "Epoch 43/1000\n",
      "4750/4750 [==============================] - 0s 44us/sample - loss: 479036.5462 - val_loss: 533095.4655\n",
      "Epoch 44/1000\n",
      "4750/4750 [==============================] - 0s 45us/sample - loss: 465595.1180 - val_loss: 529811.3235\n",
      "Epoch 45/1000\n",
      "4750/4750 [==============================] - 0s 48us/sample - loss: 454978.4388 - val_loss: 501858.8150\n",
      "Epoch 46/1000\n",
      "4750/4750 [==============================] - 0s 44us/sample - loss: 441245.0745 - val_loss: 485756.8055\n",
      "Epoch 47/1000\n",
      "4750/4750 [==============================] - 0s 44us/sample - loss: 426983.9213 - val_loss: 479380.6495\n",
      "Epoch 48/1000\n",
      "4750/4750 [==============================] - 0s 45us/sample - loss: 415294.5138 - val_loss: 459109.8300\n",
      "Epoch 49/1000\n",
      "4750/4750 [==============================] - 0s 47us/sample - loss: 403120.6132 - val_loss: 448885.9985\n",
      "Epoch 50/1000\n",
      "4750/4750 [==============================] - 0s 44us/sample - loss: 392868.9325 - val_loss: 432734.4660\n",
      "Epoch 51/1000\n",
      "4750/4750 [==============================] - 0s 47us/sample - loss: 381248.0787 - val_loss: 420872.5990\n",
      "Epoch 52/1000\n",
      "4750/4750 [==============================] - 0s 44us/sample - loss: 370819.3301 - val_loss: 404975.6360\n",
      "Epoch 53/1000\n",
      "4750/4750 [==============================] - 0s 44us/sample - loss: 359297.3156 - val_loss: 417534.3975\n",
      "Epoch 54/1000\n",
      "4750/4750 [==============================] - 0s 44us/sample - loss: 350962.9435 - val_loss: 385231.8850\n",
      "Epoch 55/1000\n",
      "4750/4750 [==============================] - 0s 48us/sample - loss: 341535.8639 - val_loss: 372506.0932\n",
      "Epoch 56/1000\n",
      "4750/4750 [==============================] - 0s 48us/sample - loss: 330328.1218 - val_loss: 373232.0110\n",
      "Epoch 57/1000\n",
      "4750/4750 [==============================] - 0s 44us/sample - loss: 328744.6541 - val_loss: 359907.8655\n",
      "Epoch 58/1000\n",
      "4750/4750 [==============================] - 0s 45us/sample - loss: 316302.1631 - val_loss: 355856.3035\n",
      "Epoch 59/1000\n",
      "4750/4750 [==============================] - 0s 45us/sample - loss: 308953.9959 - val_loss: 333621.1520\n",
      "Epoch 60/1000\n",
      "4750/4750 [==============================] - 0s 47us/sample - loss: 299869.8407 - val_loss: 324263.5164\n",
      "Epoch 61/1000\n",
      "4750/4750 [==============================] - 0s 48us/sample - loss: 293330.2221 - val_loss: 319437.7222\n",
      "Epoch 62/1000\n",
      "4750/4750 [==============================] - 0s 45us/sample - loss: 287054.8249 - val_loss: 326992.9888\n",
      "Epoch 63/1000\n",
      "4750/4750 [==============================] - 0s 49us/sample - loss: 278778.4857 - val_loss: 299546.7193\n",
      "Epoch 64/1000\n",
      "4750/4750 [==============================] - 0s 46us/sample - loss: 273296.1184 - val_loss: 299984.3240\n",
      "Epoch 65/1000\n",
      "4750/4750 [==============================] - 0s 44us/sample - loss: 264767.3017 - val_loss: 289559.3716\n",
      "Epoch 66/1000\n",
      "4750/4750 [==============================] - 0s 44us/sample - loss: 257809.8106 - val_loss: 277914.2452\n",
      "Epoch 67/1000\n",
      "4750/4750 [==============================] - 0s 51us/sample - loss: 250130.1987 - val_loss: 271417.6402\n",
      "Epoch 68/1000\n",
      "4750/4750 [==============================] - 0s 48us/sample - loss: 244557.2444 - val_loss: 269414.5176\n",
      "Epoch 69/1000\n",
      "4750/4750 [==============================] - 0s 45us/sample - loss: 238264.0305 - val_loss: 263229.0615\n"
     ]
    },
    {
     "name": "stdout",
     "output_type": "stream",
     "text": [
      "Epoch 70/1000\n",
      "4750/4750 [==============================] - 0s 46us/sample - loss: 232703.0272 - val_loss: 250779.7721\n",
      "Epoch 71/1000\n",
      "4750/4750 [==============================] - 0s 44us/sample - loss: 227999.2858 - val_loss: 249120.0642\n",
      "Epoch 72/1000\n",
      "4750/4750 [==============================] - 0s 43us/sample - loss: 224555.1745 - val_loss: 239369.1723\n",
      "Epoch 73/1000\n",
      "4750/4750 [==============================] - 0s 41us/sample - loss: 218627.0972 - val_loss: 235182.7624\n",
      "Epoch 74/1000\n",
      "4750/4750 [==============================] - 0s 44us/sample - loss: 213300.5707 - val_loss: 230638.0696\n",
      "Epoch 75/1000\n",
      "4750/4750 [==============================] - 0s 44us/sample - loss: 207704.8218 - val_loss: 248342.9406\n",
      "Epoch 76/1000\n",
      "4750/4750 [==============================] - 0s 41us/sample - loss: 204817.1061 - val_loss: 227211.7545\n",
      "Epoch 77/1000\n",
      "4750/4750 [==============================] - 0s 47us/sample - loss: 199093.5229 - val_loss: 217845.4041\n",
      "Epoch 78/1000\n",
      "4750/4750 [==============================] - 0s 77us/sample - loss: 196293.4641 - val_loss: 213484.0760\n",
      "Epoch 79/1000\n",
      "4750/4750 [==============================] - 0s 66us/sample - loss: 194487.3726 - val_loss: 210104.0567\n",
      "Epoch 80/1000\n",
      "4750/4750 [==============================] - 0s 82us/sample - loss: 191649.1992 - val_loss: 205982.5469\n",
      "Epoch 81/1000\n",
      "4750/4750 [==============================] - 0s 42us/sample - loss: 188385.1157 - val_loss: 221265.4805\n",
      "Epoch 82/1000\n",
      "4750/4750 [==============================] - 0s 44us/sample - loss: 186623.5295 - val_loss: 201288.1572\n",
      "Epoch 83/1000\n",
      "4750/4750 [==============================] - 0s 46us/sample - loss: 183655.7833 - val_loss: 203501.4953\n",
      "Epoch 84/1000\n",
      "4750/4750 [==============================] - 0s 42us/sample - loss: 183036.8142 - val_loss: 198241.8870\n",
      "Epoch 85/1000\n",
      "4750/4750 [==============================] - 0s 42us/sample - loss: 180064.0494 - val_loss: 215591.0804\n",
      "Epoch 86/1000\n",
      "4750/4750 [==============================] - 0s 40us/sample - loss: 181961.4611 - val_loss: 213544.4168\n",
      "Epoch 87/1000\n",
      "4750/4750 [==============================] - 0s 42us/sample - loss: 180063.6318 - val_loss: 197747.1933\n",
      "Epoch 88/1000\n",
      "4750/4750 [==============================] - 0s 42us/sample - loss: 180214.1862 - val_loss: 193642.6235\n",
      "Epoch 89/1000\n",
      "4750/4750 [==============================] - 0s 42us/sample - loss: 176223.9009 - val_loss: 191662.6484\n",
      "Epoch 90/1000\n",
      "4750/4750 [==============================] - 0s 40us/sample - loss: 177745.9143 - val_loss: 189809.8513\n",
      "Epoch 91/1000\n",
      "4750/4750 [==============================] - 0s 47us/sample - loss: 178068.6724 - val_loss: 190738.6696\n",
      "Epoch 92/1000\n",
      "4750/4750 [==============================] - 0s 43us/sample - loss: 174996.3402 - val_loss: 188703.2698\n",
      "Epoch 93/1000\n",
      "4750/4750 [==============================] - 0s 50us/sample - loss: 175501.1684 - val_loss: 196999.0216\n",
      "Epoch 94/1000\n",
      "4750/4750 [==============================] - 0s 44us/sample - loss: 174362.3050 - val_loss: 195499.0823\n",
      "Epoch 95/1000\n",
      "4750/4750 [==============================] - 0s 41us/sample - loss: 174549.2330 - val_loss: 188652.7715\n",
      "Epoch 96/1000\n",
      "4750/4750 [==============================] - 0s 47us/sample - loss: 173355.0071 - val_loss: 189210.3103\n",
      "Epoch 97/1000\n",
      "4750/4750 [==============================] - 0s 50us/sample - loss: 174217.6878 - val_loss: 188340.8842\n",
      "Epoch 98/1000\n",
      "4750/4750 [==============================] - 0s 48us/sample - loss: 174502.3594 - val_loss: 218581.3864\n",
      "Epoch 99/1000\n",
      "4750/4750 [==============================] - 0s 41us/sample - loss: 174089.0972 - val_loss: 187263.5300\n",
      "Epoch 100/1000\n",
      "4750/4750 [==============================] - 0s 43us/sample - loss: 175116.3996 - val_loss: 196832.7986\n",
      "Epoch 101/1000\n",
      "4750/4750 [==============================] - 0s 49us/sample - loss: 172162.8703 - val_loss: 186238.0638\n",
      "Epoch 102/1000\n",
      "4750/4750 [==============================] - 0s 48us/sample - loss: 173387.0935 - val_loss: 187426.0480\n",
      "Epoch 103/1000\n",
      "4750/4750 [==============================] - 0s 46us/sample - loss: 172392.4635 - val_loss: 186665.1315\n",
      "Epoch 104/1000\n",
      "4750/4750 [==============================] - 0s 43us/sample - loss: 174893.9548 - val_loss: 187810.6268\n",
      "Epoch 105/1000\n",
      "4750/4750 [==============================] - 0s 49us/sample - loss: 174492.5685 - val_loss: 187616.7188\n",
      "Epoch 106/1000\n",
      "4750/4750 [==============================] - 0s 47us/sample - loss: 173241.5180 - val_loss: 185948.0166\n",
      "Epoch 107/1000\n",
      "4750/4750 [==============================] - 0s 51us/sample - loss: 173032.4058 - val_loss: 185922.7318\n",
      "Epoch 108/1000\n",
      "4750/4750 [==============================] - 0s 45us/sample - loss: 171723.3249 - val_loss: 198290.3577\n",
      "Epoch 109/1000\n",
      "4750/4750 [==============================] - 0s 44us/sample - loss: 174443.8938 - val_loss: 187398.4662\n",
      "Epoch 110/1000\n",
      "4750/4750 [==============================] - 0s 51us/sample - loss: 173448.5176 - val_loss: 185790.4846\n",
      "Epoch 111/1000\n",
      "4750/4750 [==============================] - 0s 46us/sample - loss: 172633.0445 - val_loss: 190098.9881\n",
      "Epoch 112/1000\n",
      "4750/4750 [==============================] - 0s 43us/sample - loss: 175223.2851 - val_loss: 204688.4365\n",
      "Epoch 113/1000\n",
      "4750/4750 [==============================] - 0s 46us/sample - loss: 173171.6575 - val_loss: 198987.5254\n",
      "Epoch 114/1000\n",
      "4750/4750 [==============================] - 0s 52us/sample - loss: 176567.4080 - val_loss: 185612.6853\n",
      "Epoch 115/1000\n",
      "4750/4750 [==============================] - 0s 54us/sample - loss: 173691.4786 - val_loss: 209242.5199\n",
      "Epoch 116/1000\n",
      "4750/4750 [==============================] - 0s 67us/sample - loss: 173867.3125 - val_loss: 214962.6019\n",
      "Epoch 117/1000\n",
      "4750/4750 [==============================] - 0s 49us/sample - loss: 174459.1776 - val_loss: 186904.8194\n",
      "Epoch 118/1000\n",
      "4750/4750 [==============================] - 0s 48us/sample - loss: 171372.5210 - val_loss: 186014.2971\n",
      "Epoch 119/1000\n",
      "4750/4750 [==============================] - 0s 44us/sample - loss: 172494.7214 - val_loss: 197254.3846\n"
     ]
    }
   ],
   "source": [
    "es_cb=EarlyStopping(monitor='val_loss',patience=5)\n",
    "model=get_model()\n",
    "predi=model.predict(xtest)\n",
    "history=model.fit(xtrain,ytrain,validation_data=(xtest,ytest),epochs=1000,callbacks=[es_cb])"
   ]
  },
  {
   "cell_type": "markdown",
   "metadata": {},
   "source": [
    "#### Normalized"
   ]
  },
  {
   "cell_type": "code",
   "execution_count": 74,
   "metadata": {},
   "outputs": [
    {
     "name": "stdout",
     "output_type": "stream",
     "text": [
      "Train on 4750 samples, validate on 250 samples\n",
      "Epoch 1/100\n",
      "4750/4750 [==============================] - 2s 356us/sample - loss: 0.6453 - val_loss: 0.2608\n",
      "Epoch 2/100\n",
      "4750/4750 [==============================] - 0s 63us/sample - loss: 0.2039 - val_loss: 0.1897\n",
      "Epoch 3/100\n",
      "4750/4750 [==============================] - 0s 51us/sample - loss: 0.1728 - val_loss: 0.1730\n",
      "Epoch 4/100\n",
      "4750/4750 [==============================] - 0s 49us/sample - loss: 0.1643 - val_loss: 0.1699\n",
      "Epoch 5/100\n",
      "4750/4750 [==============================] - 0s 57us/sample - loss: 0.1609 - val_loss: 0.1687\n",
      "Epoch 6/100\n",
      "4750/4750 [==============================] - 0s 53us/sample - loss: 0.1587 - val_loss: 0.1629\n",
      "Epoch 7/100\n",
      "4750/4750 [==============================] - 0s 51us/sample - loss: 0.1568 - val_loss: 0.1616\n",
      "Epoch 8/100\n",
      "4750/4750 [==============================] - 0s 50us/sample - loss: 0.1551 - val_loss: 0.1659\n",
      "Epoch 9/100\n",
      "4750/4750 [==============================] - 0s 54us/sample - loss: 0.1545 - val_loss: 0.1610\n",
      "Epoch 10/100\n",
      "4750/4750 [==============================] - 0s 58us/sample - loss: 0.1540 - val_loss: 0.1599\n",
      "Epoch 11/100\n",
      "4750/4750 [==============================] - 0s 55us/sample - loss: 0.1535 - val_loss: 0.1653\n",
      "Epoch 12/100\n",
      "4750/4750 [==============================] - 0s 51us/sample - loss: 0.1530 - val_loss: 0.1623\n",
      "Epoch 13/100\n",
      "4750/4750 [==============================] - 0s 52us/sample - loss: 0.1538 - val_loss: 0.1616\n",
      "Epoch 14/100\n",
      "4750/4750 [==============================] - 0s 53us/sample - loss: 0.1519 - val_loss: 0.1573\n",
      "Epoch 15/100\n",
      "4750/4750 [==============================] - 0s 50us/sample - loss: 0.1519 - val_loss: 0.1596\n",
      "Epoch 16/100\n",
      "4750/4750 [==============================] - 0s 73us/sample - loss: 0.1523 - val_loss: 0.1559\n",
      "Epoch 17/100\n",
      "4750/4750 [==============================] - 0s 79us/sample - loss: 0.1517 - val_loss: 0.1546\n",
      "Epoch 18/100\n",
      "4750/4750 [==============================] - 0s 71us/sample - loss: 0.1514 - val_loss: 0.1574\n",
      "Epoch 19/100\n",
      "4750/4750 [==============================] - 0s 50us/sample - loss: 0.1505 - val_loss: 0.1532\n",
      "Epoch 20/100\n",
      "4750/4750 [==============================] - 0s 48us/sample - loss: 0.1510 - val_loss: 0.1538\n",
      "Epoch 21/100\n",
      "4750/4750 [==============================] - 0s 49us/sample - loss: 0.1506 - val_loss: 0.1547\n",
      "Epoch 22/100\n",
      "4750/4750 [==============================] - 0s 50us/sample - loss: 0.1513 - val_loss: 0.1577\n",
      "Epoch 23/100\n",
      "4750/4750 [==============================] - 0s 66us/sample - loss: 0.1505 - val_loss: 0.1532\n",
      "Epoch 24/100\n",
      "4750/4750 [==============================] - 0s 73us/sample - loss: 0.1506 - val_loss: 0.1545\n",
      "Epoch 25/100\n",
      "4750/4750 [==============================] - 0s 86us/sample - loss: 0.1506 - val_loss: 0.1526\n",
      "Epoch 26/100\n",
      "4750/4750 [==============================] - 0s 75us/sample - loss: 0.1513 - val_loss: 0.1536\n",
      "Epoch 27/100\n",
      "4750/4750 [==============================] - 0s 66us/sample - loss: 0.1502 - val_loss: 0.1578\n",
      "Epoch 28/100\n",
      "4750/4750 [==============================] - 0s 55us/sample - loss: 0.1494 - val_loss: 0.1542\n",
      "Epoch 29/100\n",
      "4750/4750 [==============================] - 0s 74us/sample - loss: 0.1503 - val_loss: 0.1599\n",
      "Epoch 30/100\n",
      "4750/4750 [==============================] - 0s 99us/sample - loss: 0.1497 - val_loss: 0.1564\n"
     ]
    }
   ],
   "source": [
    "es_cb=EarlyStopping(monitor='val_loss',patience=5)\n",
    "modeln=get_model()\n",
    "predin=modeln.predict(xtestn)\n",
    "history1=modeln.fit(xtrainn,ytrainn,validation_data=(xtestn,ytestn),epochs=100,callbacks=[es_cb])"
   ]
  },
  {
   "cell_type": "markdown",
   "metadata": {},
   "source": [
    "## 6.2: Plot Training and Validation Loss\n",
    "\n",
    "Let's use the `plot_loss` helper function to take a look training and validation loss."
   ]
  },
  {
   "cell_type": "markdown",
   "metadata": {},
   "source": [
    "#### Normalized"
   ]
  },
  {
   "cell_type": "code",
   "execution_count": 75,
   "metadata": {},
   "outputs": [
    {
     "data": {
      "image/png": "[encoded data removed]",
      "text/plain": [
       "<Figure size 576x576 with 1 Axes>"
      ]
     },
     "metadata": {
      "needs_background": "light"
     },
     "output_type": "display_data"
    }
   ],
   "source": [
    "plot_loss(history1)"
   ]
  },
  {
   "cell_type": "markdown",
   "metadata": {},
   "source": [
    "#### Not Normalized"
   ]
  },
  {
   "cell_type": "code",
   "execution_count": 67,
   "metadata": {},
   "outputs": [
    {
     "data": {
      "image/png": "[encoded data removed]",
      "text/plain": [
       "<Figure size 576x576 with 1 Axes>"
      ]
     },
     "metadata": {
      "needs_background": "light"
     },
     "output_type": "display_data"
    }
   ],
   "source": [
    "plot_loss(history)"
   ]
  },
  {
   "cell_type": "markdown",
   "metadata": {},
   "source": [
    "# Task 7: Predictions"
   ]
  },
  {
   "cell_type": "markdown",
   "metadata": {},
   "source": [
    "## 7.1: Plot Raw Predictions\n",
    "\n",
    "Let's use the `compare_predictions` helper function to compare predictions from the model when it was untrained and when it was trained."
   ]
  },
  {
   "cell_type": "markdown",
   "metadata": {},
   "source": [
    "#### Not Normalized"
   ]
  },
  {
   "cell_type": "code",
   "execution_count": 68,
   "metadata": {},
   "outputs": [
    {
     "data": {
      "image/png": "[encoded data removed]",
      "text/plain": [
       "<Figure size 576x576 with 1 Axes>"
      ]
     },
     "metadata": {
      "needs_background": "light"
     },
     "output_type": "display_data"
    }
   ],
   "source": [
    "pred=model.predict(xtest)\n",
    "compare_predictions(predi,pred,ytest)"
   ]
  },
  {
   "cell_type": "markdown",
   "metadata": {},
   "source": [
    "#### Normalized"
   ]
  },
  {
   "cell_type": "code",
   "execution_count": 76,
   "metadata": {},
   "outputs": [
    {
     "data": {
      "image/png": "[encoded data removed]",
      "text/plain": [
       "<Figure size 576x576 with 1 Axes>"
      ]
     },
     "metadata": {
      "needs_background": "light"
     },
     "output_type": "display_data"
    }
   ],
   "source": [
    "predn=modeln.predict(xtestn)\n",
    "compare_predictions(predin,predn,ytestn)"
   ]
  },
  {
   "cell_type": "markdown",
   "metadata": {},
   "source": [
    "## 7.2: Plot Price Predictions\n",
    "\n",
    "The plot for price predictions and raw predictions will look the same with just one difference: The x and y axis scale is changed."
   ]
  },
  {
   "cell_type": "markdown",
   "metadata": {},
   "source": [
    "#### Normalized"
   ]
  },
  {
   "cell_type": "code",
   "execution_count": 77,
   "metadata": {},
   "outputs": [
    {
     "data": {
      "image/png": "[encoded data removed]",
      "text/plain": [
       "<Figure size 576x576 with 1 Axes>"
      ]
     },
     "metadata": {
      "needs_background": "light"
     },
     "output_type": "display_data"
    }
   ],
   "source": [
    "pricein=[convert_label_value(y) for y in predin]\n",
    "pricen=[convert_label_value(y) for y in predn]\n",
    "\n",
    "y_testn=[convert_label_value(y) for y in ytestn]\n",
    "compare_predictions(pricein,pricen,y_testn)"
   ]
  },
  {
   "cell_type": "code",
   "execution_count": null,
   "metadata": {},
   "outputs": [],
   "source": []
  }
 ],
 "metadata": {
  "kernelspec": {
   "display_name": "Python 3",
   "language": "python",
   "name": "python3"
  },
  "language_info": {
   "codemirror_mode": {
    "name": "ipython",
    "version": 3
   },
   "file_extension": ".py",
   "mimetype": "text/x-python",
   "name": "python",
   "nbconvert_exporter": "python",
   "pygments_lexer": "ipython3",
   "version": "3.7.3"
  }
 },
 "nbformat": 4,
 "nbformat_minor": 2
}
